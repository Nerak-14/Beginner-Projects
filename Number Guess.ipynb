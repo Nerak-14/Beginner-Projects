{
 "cells": [
  {
   "cell_type": "code",
   "execution_count": null,
   "id": "6977ff69-d318-4528-bc11-b88684c5d02b",
   "metadata": {},
   "outputs": [
    {
     "name": "stdout",
     "output_type": "stream",
     "text": [
      "Welcome to the game!\n",
      "Thinking of a number between 1 and 100....\n"
     ]
    },
    {
     "name": "stdin",
     "output_type": "stream",
     "text": [
      "Please enter your guess: 87\n"
     ]
    },
    {
     "name": "stdout",
     "output_type": "stream",
     "text": [
      "Checking....\n",
      "Too high :( Try again!\n"
     ]
    },
    {
     "name": "stdin",
     "output_type": "stream",
     "text": [
      "Please enter your guess: 14\n"
     ]
    },
    {
     "name": "stdout",
     "output_type": "stream",
     "text": [
      "Checking....\n",
      "Too low :( Try again!\n"
     ]
    },
    {
     "name": "stdin",
     "output_type": "stream",
     "text": [
      "Please enter your guess: 74\n"
     ]
    },
    {
     "name": "stdout",
     "output_type": "stream",
     "text": [
      "Checking....\n",
      "Too high :( Try again!\n"
     ]
    },
    {
     "name": "stdin",
     "output_type": "stream",
     "text": [
      "Please enter your guess: 54\n"
     ]
    },
    {
     "name": "stdout",
     "output_type": "stream",
     "text": [
      "Checking....\n",
      "Too high :( Try again!\n"
     ]
    }
   ],
   "source": [
    "import time  # Importing the time package for delays\n",
    "\n",
    "def number_guessing_game():\n",
    "    print(\"Welcome to the game!\")\n",
    "    time.sleep(1.5)\n",
    "    print(\"Thinking of a number between 1 and 100....\")\n",
    "    time.sleep(3)\n",
    "    \n",
    "number_guessing_game()\n",
    "\n",
    "import random  # Importing the random package to generate a number\n",
    "\n",
    "correct_number = random.randint(1, 100)\n",
    "\n",
    "# Request player to input their guess\n",
    "while True:\n",
    "    guess = int(input(\"Please enter your guess:\"))\n",
    "       \n",
    "# Check if the guess is within the valid range\n",
    "    if guess < 1 or guess > 100:\n",
    "        print(\"Please enter a valid number between 1 and 100.\")\n",
    "        continue \n",
    "            \n",
    "# Compare guess with correct number\n",
    "    if guess > correct_number:\n",
    "        print(\"Checking....\")\n",
    "        time.sleep(1.5)\n",
    "        print(\"Too high :( Try again!\")\n",
    "    \n",
    "    elif guess < correct_number:\n",
    "        print(\"Checking....\")\n",
    "        time.sleep(1.5)\n",
    "        print(\"Too low :( Try again!\")\n",
    "    \n",
    "    else: \n",
    "        print(\"Checking....\")\n",
    "        time.sleep(2)\n",
    "        print(\"🎉 Congratulations, you guessed the number!! :D\")\n",
    "        break  #ends the game once the correct number has been guessed"
   ]
  },
  {
   "cell_type": "code",
   "execution_count": null,
   "id": "9f30d623-3e44-4f7d-805c-2f81f867e6ae",
   "metadata": {},
   "outputs": [],
   "source": []
  }
 ],
 "metadata": {
  "kernelspec": {
   "display_name": "Python 3 (ipykernel)",
   "language": "python",
   "name": "python3"
  },
  "language_info": {
   "codemirror_mode": {
    "name": "ipython",
    "version": 3
   },
   "file_extension": ".py",
   "mimetype": "text/x-python",
   "name": "python",
   "nbconvert_exporter": "python",
   "pygments_lexer": "ipython3",
   "version": "3.12.3"
  }
 },
 "nbformat": 4,
 "nbformat_minor": 5
}
